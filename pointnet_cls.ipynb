{
 "cells": [
  {
   "cell_type": "code",
   "execution_count": 1,
   "metadata": {},
   "outputs": [
    {
     "name": "stdout",
     "output_type": "stream",
     "text": [
      "Model: \"network\"\n",
      "_________________________________________________________________\n",
      "Layer (type)                 Output Shape              Param #   \n",
      "=================================================================\n",
      "conv2d (Conv2D)              multiple                  256       \n",
      "_________________________________________________________________\n",
      "conv2d_1 (Conv2D)            multiple                  8320      \n",
      "_________________________________________________________________\n",
      "conv2d_2 (Conv2D)            multiple                  132096    \n",
      "_________________________________________________________________\n",
      "max_pooling2d (MaxPooling2D) multiple                  0         \n",
      "_________________________________________________________________\n",
      "flatten (Flatten)            multiple                  0         \n",
      "_________________________________________________________________\n",
      "dense (Dense)                multiple                  1049088   \n",
      "_________________________________________________________________\n",
      "dense_1 (Dense)              multiple                  131328    \n",
      "_________________________________________________________________\n",
      "dense_2 (Dense)              multiple                  2313      \n",
      "_________________________________________________________________\n",
      "conv2d_3 (Conv2D)            multiple                  256       \n",
      "_________________________________________________________________\n",
      "conv2d_4 (Conv2D)            multiple                  4160      \n",
      "_________________________________________________________________\n",
      "conv2d_5 (Conv2D)            multiple                  4160      \n",
      "_________________________________________________________________\n",
      "conv2d_6 (Conv2D)            multiple                  8320      \n",
      "_________________________________________________________________\n",
      "conv2d_7 (Conv2D)            multiple                  132096    \n",
      "_________________________________________________________________\n",
      "max_pooling2d_1 (MaxPooling2 multiple                  0         \n",
      "_________________________________________________________________\n",
      "flatten_1 (Flatten)          multiple                  0         \n",
      "_________________________________________________________________\n",
      "dense_3 (Dense)              multiple                  1049088   \n",
      "_________________________________________________________________\n",
      "dense_4 (Dense)              multiple                  131328    \n",
      "_________________________________________________________________\n",
      "dense_5 (Dense)              multiple                  1052672   \n",
      "_________________________________________________________________\n",
      "conv2d_8 (Conv2D)            multiple                  4160      \n",
      "_________________________________________________________________\n",
      "conv2d_9 (Conv2D)            multiple                  8320      \n",
      "_________________________________________________________________\n",
      "conv2d_10 (Conv2D)           multiple                  132096    \n",
      "_________________________________________________________________\n",
      "max_pooling2d_2 (MaxPooling2 multiple                  0         \n",
      "_________________________________________________________________\n",
      "flatten_2 (Flatten)          multiple                  0         \n",
      "_________________________________________________________________\n",
      "dense_6 (Dense)              multiple                  1049088   \n",
      "_________________________________________________________________\n",
      "dense_7 (Dense)              multiple                  131328    \n",
      "_________________________________________________________________\n",
      "dense_8 (Dense)              multiple                  10280     \n",
      "=================================================================\n",
      "Total params: 5,040,753\n",
      "Trainable params: 5,040,753\n",
      "Non-trainable params: 0\n",
      "_________________________________________________________________\n",
      "simple_v2.py, line 109\n"
     ]
    },
    {
     "name": "stderr",
     "output_type": "stream",
     "text": [
      "2024-03-26 21:20:18.990801: I tensorflow/stream_executor/cuda/cuda_gpu_executor.cc:937] successful NUMA node read from SysFS had negative value (-1), but there must be at least one NUMA node, so returning NUMA node zero\n",
      "2024-03-26 21:20:18.993588: I tensorflow/stream_executor/cuda/cuda_gpu_executor.cc:937] successful NUMA node read from SysFS had negative value (-1), but there must be at least one NUMA node, so returning NUMA node zero\n",
      "2024-03-26 21:20:18.993734: I tensorflow/stream_executor/cuda/cuda_gpu_executor.cc:937] successful NUMA node read from SysFS had negative value (-1), but there must be at least one NUMA node, so returning NUMA node zero\n",
      "2024-03-26 21:20:18.993995: I tensorflow/core/platform/cpu_feature_guard.cc:142] This TensorFlow binary is optimized with oneAPI Deep Neural Network Library (oneDNN) to use the following CPU instructions in performance-critical operations:  AVX2 FMA\n",
      "To enable them in other operations, rebuild TensorFlow with the appropriate compiler flags.\n",
      "2024-03-26 21:20:18.994961: I tensorflow/stream_executor/cuda/cuda_gpu_executor.cc:937] successful NUMA node read from SysFS had negative value (-1), but there must be at least one NUMA node, so returning NUMA node zero\n",
      "2024-03-26 21:20:18.995112: I tensorflow/stream_executor/cuda/cuda_gpu_executor.cc:937] successful NUMA node read from SysFS had negative value (-1), but there must be at least one NUMA node, so returning NUMA node zero\n",
      "2024-03-26 21:20:18.995250: I tensorflow/stream_executor/cuda/cuda_gpu_executor.cc:937] successful NUMA node read from SysFS had negative value (-1), but there must be at least one NUMA node, so returning NUMA node zero\n",
      "2024-03-26 21:20:19.262263: I tensorflow/stream_executor/cuda/cuda_gpu_executor.cc:937] successful NUMA node read from SysFS had negative value (-1), but there must be at least one NUMA node, so returning NUMA node zero\n",
      "2024-03-26 21:20:19.262432: I tensorflow/stream_executor/cuda/cuda_gpu_executor.cc:937] successful NUMA node read from SysFS had negative value (-1), but there must be at least one NUMA node, so returning NUMA node zero\n",
      "2024-03-26 21:20:19.262560: I tensorflow/stream_executor/cuda/cuda_gpu_executor.cc:937] successful NUMA node read from SysFS had negative value (-1), but there must be at least one NUMA node, so returning NUMA node zero\n",
      "2024-03-26 21:20:19.262680: I tensorflow/core/common_runtime/gpu/gpu_device.cc:1510] Created device /job:localhost/replica:0/task:0/device:GPU:0 with 19059 MB memory:  -> device: 0, name: NVIDIA RTX A5000, pci bus id: 0000:2d:00.0, compute capability: 8.6\n"
     ]
    }
   ],
   "source": [
    "import os\n",
    "import sys\n",
    "import numpy as np\n",
    "import matplotlib.pyplot as plt\n",
    "import tensorflow as tf\n",
    "import h5py\n",
    "from tensorflow.keras.optimizers import Adam\n",
    "from tqdm import tqdm\n",
    "os.environ[\"CUDA_VISIBLE_DEVICES\"] = \"0\"\n",
    "file_path = './data/modelnet40_ply_hdf5_2048/ply_data_train0.h5'\n",
    "with h5py.File(file_path, 'r') as file:\n",
    "    label = file['label']\n",
    "    data_dataset = file['data']\n",
    "    data_labels  = label[:]\n",
    "    data_values = data_dataset[:]\n",
    "point_cloud = np.expand_dims(data_values, -1)\n",
    "\n",
    "class network(tf.keras.Model):\n",
    "    def __init__(self):\n",
    "        super().__init__()\n",
    "        K=3\n",
    "        self.input_conv1 = tf.keras.layers.Conv2D(64, (1, 3), (1, 1), padding='valid', activation='relu')\n",
    "        self.input_conv2 = tf.keras.layers.Conv2D(128, (1, 1), (1, 1), padding='valid', activation='relu')\n",
    "        self.input_conv3 = tf.keras.layers.Conv2D(1024, (1, 1), (1, 1), padding='valid', activation='relu')\n",
    "        self.input_maxpooling2d = tf.keras.layers.MaxPooling2D(pool_size=(1024, 1), padding='valid')\n",
    "        self.input_flatten = tf.keras.layers.Flatten()\n",
    "        self.input_dense1 = tf.keras.layers.Dense(512, activation='relu')\n",
    "        self.input_dense2 = tf.keras.layers.Dense(256, activation='relu')\n",
    "        self.input_dense3 = tf.keras.layers.Dense(3*K, activation=None)\n",
    "        self.model_1_conv1 = tf.keras.layers.Conv2D(64, (1, 3), (1, 1), padding='valid', activation='relu')\n",
    "        self.model_1_conv2 = tf.keras.layers.Conv2D(64, (1, 1), (1, 1), padding='valid', activation='relu')\n",
    "        K = 64\n",
    "        self.feature_conv1 = tf.keras.layers.Conv2D(64, (1, 1), (1, 1), padding='valid', activation='relu')\n",
    "        self.feature_conv2 = tf.keras.layers.Conv2D(128, (1, 1), (1, 1), padding='valid', activation='relu')\n",
    "        self.feature_conv3 = tf.keras.layers.Conv2D(1024, (1, 1), (1, 1), padding='valid', activation='relu')\n",
    "        self.feature_maxpooling2d = tf.keras.layers.MaxPooling2D(pool_size=(1024, 1), padding='valid')\n",
    "        self.feature_flatten = tf.keras.layers.Flatten()\n",
    "        self.feature_dense1 = tf.keras.layers.Dense(512, activation='relu')\n",
    "        self.feature_dense2 = tf.keras.layers.Dense(256, activation='relu')\n",
    "        self.feature_dense3 = tf.keras.layers.Dense(K*K, activation=None)\n",
    "        self.model_2_conv1 = tf.keras.layers.Conv2D(64, (1, 1), (1, 1), padding='valid', activation='relu')\n",
    "        self.model_2_conv2 = tf.keras.layers.Conv2D(128, (1, 1), (1, 1), padding='valid', activation='relu')\n",
    "        self.model_2_conv3 = tf.keras.layers.Conv2D(1024, (1, 1), (1, 1), padding='valid', activation='relu')\n",
    "        self.model_2_maxpooling2d = tf.keras.layers.MaxPooling2D(pool_size=(1024, 1), padding='valid')\n",
    "        self.model_2_flatten = tf.keras.layers.Flatten()\n",
    "        self.model_2_dense1 = tf.keras.layers.Dense(512, activation='relu')\n",
    "        self.model_2_dense2 = tf.keras.layers.Dense(256, activation='relu')\n",
    "        self.model_2_dense3 = tf.keras.layers.Dense(40, activation=None)\n",
    "\n",
    "    def call(self, inputs):\n",
    "        y = self.input_conv1(inputs)\n",
    "        y = self.input_conv2(y)\n",
    "        y = self.input_conv3(y)\n",
    "        y = self.input_maxpooling2d(y)\n",
    "        y = self.input_flatten(y)\n",
    "        y = self.input_dense1(y)\n",
    "        y = self.input_dense2(y)\n",
    "        y = self.input_dense3(y)\n",
    "        transform = tf.reshape(y, (-1, 3, 3))\n",
    "        x = tf.matmul(tf.squeeze(inputs, axis=[3]), transform)\n",
    "        x = tf.expand_dims(x, -1)\n",
    "        x = self.model_1_conv1(x)\n",
    "        x = self.model_1_conv2(x)\n",
    "        y = self.feature_conv1(x)\n",
    "        y = self.feature_conv2(y)\n",
    "        y = self.feature_conv3(y)\n",
    "        y = self.feature_maxpooling2d(y)\n",
    "        y = self.feature_flatten(y)\n",
    "        y = self.feature_dense1(y)\n",
    "        y = self.feature_dense2(y)\n",
    "        y = self.feature_dense3(y)\n",
    "        transform = tf.reshape(y, (-1, 64, 64))\n",
    "        x = tf.matmul(tf.squeeze(x, axis=[2]), transform)\n",
    "        x = tf.expand_dims(x, [2])\n",
    "        x = self.model_2_conv1(x)\n",
    "        x = self.model_2_conv2(x)\n",
    "        x = self.model_2_conv3(x)\n",
    "        x = self.model_2_maxpooling2d(x)\n",
    "        x = self.model_2_flatten(x)\n",
    "        x = self.model_2_dense1(x)\n",
    "        x = self.model_2_dense2(x)\n",
    "        x = self.model_2_dense3(x)\n",
    "        return x\n",
    "\n",
    "# class project:\n",
    "#     def __init__(self):\n",
    "#         self.model = network()\n",
    "#     def train(self):\n",
    "#         model_params = self.model.trainable\n",
    "\n",
    "model = network()\n",
    "model.build(input_shape=(None, 2048, 3, 1))\n",
    "model.summary()\n",
    "print(\"simple_v2.py, line 109\")\n",
    "optimizer = Adam(learning_rate=0.00003)\n",
    "\n",
    "def train(max_iteration):\n",
    "    losses = []\n",
    "    accuracies = []\n",
    "    model_params = model.trainable_variables\n",
    "    num_batches = len(point_cloud) // 32\n",
    "    for iteration in range(max_iteration):\n",
    "        total_loss = []\n",
    "        total_accuracy = []\n",
    "        with tqdm(total=num_batches, desc=f'iteration {iteration + 1}', unit='batch') as pbar:\n",
    "            for i in range(0, len(point_cloud), 32):\n",
    "                batch_size=32\n",
    "                point_cloud_batch = point_cloud[i:i+batch_size]\n",
    "                with tf.GradientTape() as tape:\n",
    "                    tape.watch(model_params)\n",
    "                    y = model(point_cloud_batch)\n",
    "                    \n",
    "                    labels = tf.one_hot([data_labels[i:i+batch_size]], 40)\n",
    "                    loss = tf.reduce_mean(tf.square(tf.squeeze(labels, axis=[0, 2]) - y))\n",
    "                    y_pred = tf.argmax(y, axis=1)\n",
    "                    labels_pred = tf.argmax(tf.squeeze(labels, axis=[0, 2]), axis=1)\n",
    "                    accuracy = tf.reduce_mean(tf.cast(tf.equal(labels_pred, y_pred), dtype=tf.float32))\n",
    "                grads = tape.gradient(loss, model_params)\n",
    "                optimizer.apply_gradients(zip(grads, model_params))\n",
    "                pbar.update(1)\n",
    "                pbar.set_postfix({'Loss': loss.numpy()})\n",
    "\n",
    "                total_loss.append(loss)\n",
    "                total_accuracy.append(accuracy)\n",
    "        \n",
    "        iteration_loss = np.mean(np.array(total_loss))\n",
    "        iteration_accuracy = np.mean(np.array(total_accuracy))\n",
    "        print(f'Iteration {iteration + 1}, Loss: {iteration_loss:.5f}, Accuracy: {iteration_accuracy:.5f}')\n",
    "        losses.append(iteration_loss)\n",
    "        accuracies.append(iteration_accuracy)\n",
    "    return losses, accuracies"
   ]
  },
  {
   "cell_type": "code",
   "execution_count": 2,
   "metadata": {},
   "outputs": [
    {
     "name": "stderr",
     "output_type": "stream",
     "text": [
      "iteration 1:   0%|          | 0/64 [00:00<?, ?batch/s]2024-03-26 21:20:20.342684: I tensorflow/stream_executor/cuda/cuda_dnn.cc:369] Loaded cuDNN version 8100\n",
      "2024-03-26 21:20:21.092257: I tensorflow/stream_executor/cuda/cuda_blas.cc:1760] TensorFloat-32 will be used for the matrix multiplication. This will only be logged once.\n",
      "iteration 1: 100%|██████████| 64/64 [00:03<00:00, 18.90batch/s, Loss=0.0246]\n"
     ]
    },
    {
     "name": "stdout",
     "output_type": "stream",
     "text": [
      "Iteration 1, Loss: 0.02483, Accuracy: 0.06641\n"
     ]
    },
    {
     "name": "stderr",
     "output_type": "stream",
     "text": [
      "iteration 2: 100%|██████████| 64/64 [00:02<00:00, 29.89batch/s, Loss=0.0241]\n"
     ]
    },
    {
     "name": "stdout",
     "output_type": "stream",
     "text": [
      "Iteration 2, Loss: 0.02437, Accuracy: 0.06006\n"
     ]
    },
    {
     "name": "stderr",
     "output_type": "stream",
     "text": [
      "iteration 3: 100%|██████████| 64/64 [00:02<00:00, 29.91batch/s, Loss=0.0239]\n"
     ]
    },
    {
     "name": "stdout",
     "output_type": "stream",
     "text": [
      "Iteration 3, Loss: 0.02406, Accuracy: 0.09131\n"
     ]
    },
    {
     "name": "stderr",
     "output_type": "stream",
     "text": [
      "iteration 4: 100%|██████████| 64/64 [00:02<00:00, 29.99batch/s, Loss=0.0237]\n"
     ]
    },
    {
     "name": "stdout",
     "output_type": "stream",
     "text": [
      "Iteration 4, Loss: 0.02392, Accuracy: 0.12305\n"
     ]
    },
    {
     "name": "stderr",
     "output_type": "stream",
     "text": [
      "iteration 5: 100%|██████████| 64/64 [00:02<00:00, 29.97batch/s, Loss=0.0235]\n"
     ]
    },
    {
     "name": "stdout",
     "output_type": "stream",
     "text": [
      "Iteration 5, Loss: 0.02364, Accuracy: 0.14551\n"
     ]
    },
    {
     "name": "stderr",
     "output_type": "stream",
     "text": [
      "iteration 6: 100%|██████████| 64/64 [00:02<00:00, 29.97batch/s, Loss=0.0233]\n"
     ]
    },
    {
     "name": "stdout",
     "output_type": "stream",
     "text": [
      "Iteration 6, Loss: 0.02328, Accuracy: 0.15771\n"
     ]
    },
    {
     "name": "stderr",
     "output_type": "stream",
     "text": [
      "iteration 7: 100%|██████████| 64/64 [00:02<00:00, 29.76batch/s, Loss=0.0229]\n"
     ]
    },
    {
     "name": "stdout",
     "output_type": "stream",
     "text": [
      "Iteration 7, Loss: 0.02291, Accuracy: 0.16016\n"
     ]
    },
    {
     "name": "stderr",
     "output_type": "stream",
     "text": [
      "iteration 8: 100%|██████████| 64/64 [00:02<00:00, 29.75batch/s, Loss=0.0217]\n"
     ]
    },
    {
     "name": "stdout",
     "output_type": "stream",
     "text": [
      "Iteration 8, Loss: 0.02228, Accuracy: 0.20166\n"
     ]
    },
    {
     "name": "stderr",
     "output_type": "stream",
     "text": [
      "iteration 9: 100%|██████████| 64/64 [00:02<00:00, 29.73batch/s, Loss=0.0199]\n"
     ]
    },
    {
     "name": "stdout",
     "output_type": "stream",
     "text": [
      "Iteration 9, Loss: 0.02115, Accuracy: 0.29639\n"
     ]
    },
    {
     "name": "stderr",
     "output_type": "stream",
     "text": [
      "iteration 10: 100%|██████████| 64/64 [00:02<00:00, 29.70batch/s, Loss=0.0182]\n"
     ]
    },
    {
     "name": "stdout",
     "output_type": "stream",
     "text": [
      "Iteration 10, Loss: 0.01990, Accuracy: 0.36035\n"
     ]
    },
    {
     "name": "stderr",
     "output_type": "stream",
     "text": [
      "iteration 11: 100%|██████████| 64/64 [00:02<00:00, 29.73batch/s, Loss=0.0168]\n"
     ]
    },
    {
     "name": "stdout",
     "output_type": "stream",
     "text": [
      "Iteration 11, Loss: 0.01894, Accuracy: 0.39941\n"
     ]
    },
    {
     "name": "stderr",
     "output_type": "stream",
     "text": [
      "iteration 12: 100%|██████████| 64/64 [00:02<00:00, 29.77batch/s, Loss=0.0158]\n"
     ]
    },
    {
     "name": "stdout",
     "output_type": "stream",
     "text": [
      "Iteration 12, Loss: 0.01819, Accuracy: 0.42139\n"
     ]
    },
    {
     "name": "stderr",
     "output_type": "stream",
     "text": [
      "iteration 13: 100%|██████████| 64/64 [00:02<00:00, 29.76batch/s, Loss=0.015] \n"
     ]
    },
    {
     "name": "stdout",
     "output_type": "stream",
     "text": [
      "Iteration 13, Loss: 0.01752, Accuracy: 0.44287\n"
     ]
    },
    {
     "name": "stderr",
     "output_type": "stream",
     "text": [
      "iteration 14: 100%|██████████| 64/64 [00:02<00:00, 29.75batch/s, Loss=0.0145]\n"
     ]
    },
    {
     "name": "stdout",
     "output_type": "stream",
     "text": [
      "Iteration 14, Loss: 0.01693, Accuracy: 0.47266\n"
     ]
    },
    {
     "name": "stderr",
     "output_type": "stream",
     "text": [
      "iteration 15: 100%|██████████| 64/64 [00:02<00:00, 29.82batch/s, Loss=0.014] \n"
     ]
    },
    {
     "name": "stdout",
     "output_type": "stream",
     "text": [
      "Iteration 15, Loss: 0.01639, Accuracy: 0.49268\n"
     ]
    },
    {
     "name": "stderr",
     "output_type": "stream",
     "text": [
      "iteration 16: 100%|██████████| 64/64 [00:02<00:00, 29.56batch/s, Loss=0.0136]\n"
     ]
    },
    {
     "name": "stdout",
     "output_type": "stream",
     "text": [
      "Iteration 16, Loss: 0.01590, Accuracy: 0.51855\n"
     ]
    },
    {
     "name": "stderr",
     "output_type": "stream",
     "text": [
      "iteration 17: 100%|██████████| 64/64 [00:02<00:00, 29.70batch/s, Loss=0.0133]\n"
     ]
    },
    {
     "name": "stdout",
     "output_type": "stream",
     "text": [
      "Iteration 17, Loss: 0.01547, Accuracy: 0.54102\n"
     ]
    },
    {
     "name": "stderr",
     "output_type": "stream",
     "text": [
      "iteration 18: 100%|██████████| 64/64 [00:02<00:00, 29.66batch/s, Loss=0.0131]\n"
     ]
    },
    {
     "name": "stdout",
     "output_type": "stream",
     "text": [
      "Iteration 18, Loss: 0.01509, Accuracy: 0.56934\n"
     ]
    },
    {
     "name": "stderr",
     "output_type": "stream",
     "text": [
      "iteration 19: 100%|██████████| 64/64 [00:02<00:00, 29.63batch/s, Loss=0.0128]\n"
     ]
    },
    {
     "name": "stdout",
     "output_type": "stream",
     "text": [
      "Iteration 19, Loss: 0.01476, Accuracy: 0.58838\n"
     ]
    },
    {
     "name": "stderr",
     "output_type": "stream",
     "text": [
      "iteration 20: 100%|██████████| 64/64 [00:02<00:00, 29.59batch/s, Loss=0.0127]\n"
     ]
    },
    {
     "name": "stdout",
     "output_type": "stream",
     "text": [
      "Iteration 20, Loss: 0.01446, Accuracy: 0.60352\n"
     ]
    },
    {
     "name": "stderr",
     "output_type": "stream",
     "text": [
      "iteration 21: 100%|██████████| 64/64 [00:02<00:00, 29.54batch/s, Loss=0.0125]\n"
     ]
    },
    {
     "name": "stdout",
     "output_type": "stream",
     "text": [
      "Iteration 21, Loss: 0.01419, Accuracy: 0.62256\n"
     ]
    },
    {
     "name": "stderr",
     "output_type": "stream",
     "text": [
      "iteration 22: 100%|██████████| 64/64 [00:02<00:00, 29.57batch/s, Loss=0.0123] \n"
     ]
    },
    {
     "name": "stdout",
     "output_type": "stream",
     "text": [
      "Iteration 22, Loss: 0.01393, Accuracy: 0.63330\n"
     ]
    },
    {
     "name": "stderr",
     "output_type": "stream",
     "text": [
      "iteration 23: 100%|██████████| 64/64 [00:02<00:00, 29.64batch/s, Loss=0.0122] \n"
     ]
    },
    {
     "name": "stdout",
     "output_type": "stream",
     "text": [
      "Iteration 23, Loss: 0.01370, Accuracy: 0.64258\n"
     ]
    },
    {
     "name": "stderr",
     "output_type": "stream",
     "text": [
      "iteration 24: 100%|██████████| 64/64 [00:02<00:00, 29.49batch/s, Loss=0.0121] \n"
     ]
    },
    {
     "name": "stdout",
     "output_type": "stream",
     "text": [
      "Iteration 24, Loss: 0.01348, Accuracy: 0.64893\n"
     ]
    },
    {
     "name": "stderr",
     "output_type": "stream",
     "text": [
      "iteration 25: 100%|██████████| 64/64 [00:02<00:00, 29.31batch/s, Loss=0.012]  \n"
     ]
    },
    {
     "name": "stdout",
     "output_type": "stream",
     "text": [
      "Iteration 25, Loss: 0.01326, Accuracy: 0.65820\n"
     ]
    },
    {
     "name": "stderr",
     "output_type": "stream",
     "text": [
      "iteration 26: 100%|██████████| 64/64 [00:02<00:00, 29.33batch/s, Loss=0.0118] \n"
     ]
    },
    {
     "name": "stdout",
     "output_type": "stream",
     "text": [
      "Iteration 26, Loss: 0.01307, Accuracy: 0.66602\n"
     ]
    },
    {
     "name": "stderr",
     "output_type": "stream",
     "text": [
      "iteration 27: 100%|██████████| 64/64 [00:02<00:00, 29.33batch/s, Loss=0.0117] \n"
     ]
    },
    {
     "name": "stdout",
     "output_type": "stream",
     "text": [
      "Iteration 27, Loss: 0.01288, Accuracy: 0.67480\n"
     ]
    },
    {
     "name": "stderr",
     "output_type": "stream",
     "text": [
      "iteration 28: 100%|██████████| 64/64 [00:02<00:00, 29.31batch/s, Loss=0.0116] \n"
     ]
    },
    {
     "name": "stdout",
     "output_type": "stream",
     "text": [
      "Iteration 28, Loss: 0.01270, Accuracy: 0.68652\n"
     ]
    },
    {
     "name": "stderr",
     "output_type": "stream",
     "text": [
      "iteration 29: 100%|██████████| 64/64 [00:02<00:00, 29.38batch/s, Loss=0.0115] \n"
     ]
    },
    {
     "name": "stdout",
     "output_type": "stream",
     "text": [
      "Iteration 29, Loss: 0.01253, Accuracy: 0.69580\n"
     ]
    },
    {
     "name": "stderr",
     "output_type": "stream",
     "text": [
      "iteration 30: 100%|██████████| 64/64 [00:02<00:00, 29.31batch/s, Loss=0.0114] \n"
     ]
    },
    {
     "name": "stdout",
     "output_type": "stream",
     "text": [
      "Iteration 30, Loss: 0.01236, Accuracy: 0.70508\n"
     ]
    },
    {
     "name": "stderr",
     "output_type": "stream",
     "text": [
      "iteration 31: 100%|██████████| 64/64 [00:02<00:00, 29.34batch/s, Loss=0.0113] \n"
     ]
    },
    {
     "name": "stdout",
     "output_type": "stream",
     "text": [
      "Iteration 31, Loss: 0.01221, Accuracy: 0.71143\n"
     ]
    },
    {
     "name": "stderr",
     "output_type": "stream",
     "text": [
      "iteration 32: 100%|██████████| 64/64 [00:02<00:00, 29.37batch/s, Loss=0.0112] \n"
     ]
    },
    {
     "name": "stdout",
     "output_type": "stream",
     "text": [
      "Iteration 32, Loss: 0.01205, Accuracy: 0.71777\n"
     ]
    },
    {
     "name": "stderr",
     "output_type": "stream",
     "text": [
      "iteration 33: 100%|██████████| 64/64 [00:02<00:00, 29.40batch/s, Loss=0.0112] \n"
     ]
    },
    {
     "name": "stdout",
     "output_type": "stream",
     "text": [
      "Iteration 33, Loss: 0.01191, Accuracy: 0.72656\n"
     ]
    },
    {
     "name": "stderr",
     "output_type": "stream",
     "text": [
      "iteration 34: 100%|██████████| 64/64 [00:02<00:00, 29.36batch/s, Loss=0.0111] \n"
     ]
    },
    {
     "name": "stdout",
     "output_type": "stream",
     "text": [
      "Iteration 34, Loss: 0.01177, Accuracy: 0.73096\n"
     ]
    },
    {
     "name": "stderr",
     "output_type": "stream",
     "text": [
      "iteration 35: 100%|██████████| 64/64 [00:02<00:00, 29.32batch/s, Loss=0.011]  \n"
     ]
    },
    {
     "name": "stdout",
     "output_type": "stream",
     "text": [
      "Iteration 35, Loss: 0.01163, Accuracy: 0.73828\n"
     ]
    },
    {
     "name": "stderr",
     "output_type": "stream",
     "text": [
      "iteration 36: 100%|██████████| 64/64 [00:02<00:00, 29.43batch/s, Loss=0.0109] \n"
     ]
    },
    {
     "name": "stdout",
     "output_type": "stream",
     "text": [
      "Iteration 36, Loss: 0.01150, Accuracy: 0.74170\n"
     ]
    },
    {
     "name": "stderr",
     "output_type": "stream",
     "text": [
      "iteration 37: 100%|██████████| 64/64 [00:02<00:00, 29.48batch/s, Loss=0.0108] \n"
     ]
    },
    {
     "name": "stdout",
     "output_type": "stream",
     "text": [
      "Iteration 37, Loss: 0.01138, Accuracy: 0.74512\n"
     ]
    },
    {
     "name": "stderr",
     "output_type": "stream",
     "text": [
      "iteration 38: 100%|██████████| 64/64 [00:02<00:00, 29.45batch/s, Loss=0.0108] \n"
     ]
    },
    {
     "name": "stdout",
     "output_type": "stream",
     "text": [
      "Iteration 38, Loss: 0.01126, Accuracy: 0.75146\n"
     ]
    },
    {
     "name": "stderr",
     "output_type": "stream",
     "text": [
      "iteration 39: 100%|██████████| 64/64 [00:02<00:00, 29.47batch/s, Loss=0.0107] \n"
     ]
    },
    {
     "name": "stdout",
     "output_type": "stream",
     "text": [
      "Iteration 39, Loss: 0.01114, Accuracy: 0.75732\n"
     ]
    },
    {
     "name": "stderr",
     "output_type": "stream",
     "text": [
      "iteration 40: 100%|██████████| 64/64 [00:02<00:00, 29.37batch/s, Loss=0.0106] \n"
     ]
    },
    {
     "name": "stdout",
     "output_type": "stream",
     "text": [
      "Iteration 40, Loss: 0.01102, Accuracy: 0.75928\n"
     ]
    },
    {
     "name": "stderr",
     "output_type": "stream",
     "text": [
      "iteration 41: 100%|██████████| 64/64 [00:02<00:00, 29.31batch/s, Loss=0.0106] \n"
     ]
    },
    {
     "name": "stdout",
     "output_type": "stream",
     "text": [
      "Iteration 41, Loss: 0.01090, Accuracy: 0.76270\n"
     ]
    },
    {
     "name": "stderr",
     "output_type": "stream",
     "text": [
      "iteration 42: 100%|██████████| 64/64 [00:02<00:00, 29.24batch/s, Loss=0.0105] \n"
     ]
    },
    {
     "name": "stdout",
     "output_type": "stream",
     "text": [
      "Iteration 42, Loss: 0.01079, Accuracy: 0.76904\n"
     ]
    },
    {
     "name": "stderr",
     "output_type": "stream",
     "text": [
      "iteration 43: 100%|██████████| 64/64 [00:02<00:00, 29.37batch/s, Loss=0.0104] \n"
     ]
    },
    {
     "name": "stdout",
     "output_type": "stream",
     "text": [
      "Iteration 43, Loss: 0.01068, Accuracy: 0.77100\n"
     ]
    },
    {
     "name": "stderr",
     "output_type": "stream",
     "text": [
      "iteration 44: 100%|██████████| 64/64 [00:02<00:00, 29.23batch/s, Loss=0.0104] \n"
     ]
    },
    {
     "name": "stdout",
     "output_type": "stream",
     "text": [
      "Iteration 44, Loss: 0.01058, Accuracy: 0.77441\n"
     ]
    },
    {
     "name": "stderr",
     "output_type": "stream",
     "text": [
      "iteration 45: 100%|██████████| 64/64 [00:02<00:00, 29.22batch/s, Loss=0.0103] \n"
     ]
    },
    {
     "name": "stdout",
     "output_type": "stream",
     "text": [
      "Iteration 45, Loss: 0.01048, Accuracy: 0.77539\n"
     ]
    },
    {
     "name": "stderr",
     "output_type": "stream",
     "text": [
      "iteration 46: 100%|██████████| 64/64 [00:02<00:00, 29.33batch/s, Loss=0.0103] \n"
     ]
    },
    {
     "name": "stdout",
     "output_type": "stream",
     "text": [
      "Iteration 46, Loss: 0.01038, Accuracy: 0.77832\n"
     ]
    },
    {
     "name": "stderr",
     "output_type": "stream",
     "text": [
      "iteration 47: 100%|██████████| 64/64 [00:02<00:00, 29.32batch/s, Loss=0.0102] \n"
     ]
    },
    {
     "name": "stdout",
     "output_type": "stream",
     "text": [
      "Iteration 47, Loss: 0.01028, Accuracy: 0.78027\n"
     ]
    },
    {
     "name": "stderr",
     "output_type": "stream",
     "text": [
      "iteration 48: 100%|██████████| 64/64 [00:02<00:00, 29.31batch/s, Loss=0.0101] \n"
     ]
    },
    {
     "name": "stdout",
     "output_type": "stream",
     "text": [
      "Iteration 48, Loss: 0.01020, Accuracy: 0.78369\n"
     ]
    },
    {
     "name": "stderr",
     "output_type": "stream",
     "text": [
      "iteration 49: 100%|██████████| 64/64 [00:02<00:00, 29.27batch/s, Loss=0.0101] \n"
     ]
    },
    {
     "name": "stdout",
     "output_type": "stream",
     "text": [
      "Iteration 49, Loss: 0.01012, Accuracy: 0.78564\n"
     ]
    },
    {
     "name": "stderr",
     "output_type": "stream",
     "text": [
      "iteration 50: 100%|██████████| 64/64 [00:02<00:00, 29.20batch/s, Loss=0.0101] \n"
     ]
    },
    {
     "name": "stdout",
     "output_type": "stream",
     "text": [
      "Iteration 50, Loss: 0.01004, Accuracy: 0.78662\n"
     ]
    },
    {
     "name": "stderr",
     "output_type": "stream",
     "text": [
      "iteration 51: 100%|██████████| 64/64 [00:02<00:00, 29.30batch/s, Loss=0.01]   \n"
     ]
    },
    {
     "name": "stdout",
     "output_type": "stream",
     "text": [
      "Iteration 51, Loss: 0.00997, Accuracy: 0.78760\n"
     ]
    },
    {
     "name": "stderr",
     "output_type": "stream",
     "text": [
      "iteration 52: 100%|██████████| 64/64 [00:02<00:00, 29.37batch/s, Loss=0.01]   \n"
     ]
    },
    {
     "name": "stdout",
     "output_type": "stream",
     "text": [
      "Iteration 52, Loss: 0.00989, Accuracy: 0.78955\n"
     ]
    },
    {
     "name": "stderr",
     "output_type": "stream",
     "text": [
      "iteration 53: 100%|██████████| 64/64 [00:02<00:00, 29.29batch/s, Loss=0.00996]\n"
     ]
    },
    {
     "name": "stdout",
     "output_type": "stream",
     "text": [
      "Iteration 53, Loss: 0.00983, Accuracy: 0.79297\n"
     ]
    },
    {
     "name": "stderr",
     "output_type": "stream",
     "text": [
      "iteration 54: 100%|██████████| 64/64 [00:02<00:00, 29.28batch/s, Loss=0.00991]\n"
     ]
    },
    {
     "name": "stdout",
     "output_type": "stream",
     "text": [
      "Iteration 54, Loss: 0.00976, Accuracy: 0.79785\n"
     ]
    },
    {
     "name": "stderr",
     "output_type": "stream",
     "text": [
      "iteration 55: 100%|██████████| 64/64 [00:02<00:00, 29.21batch/s, Loss=0.00988]\n"
     ]
    },
    {
     "name": "stdout",
     "output_type": "stream",
     "text": [
      "Iteration 55, Loss: 0.00969, Accuracy: 0.80029\n"
     ]
    },
    {
     "name": "stderr",
     "output_type": "stream",
     "text": [
      "iteration 56: 100%|██████████| 64/64 [00:02<00:00, 29.31batch/s, Loss=0.00986]\n"
     ]
    },
    {
     "name": "stdout",
     "output_type": "stream",
     "text": [
      "Iteration 56, Loss: 0.00962, Accuracy: 0.80127\n"
     ]
    },
    {
     "name": "stderr",
     "output_type": "stream",
     "text": [
      "iteration 57: 100%|██████████| 64/64 [00:02<00:00, 29.22batch/s, Loss=0.00979]\n"
     ]
    },
    {
     "name": "stdout",
     "output_type": "stream",
     "text": [
      "Iteration 57, Loss: 0.00957, Accuracy: 0.80420\n"
     ]
    },
    {
     "name": "stderr",
     "output_type": "stream",
     "text": [
      "iteration 58: 100%|██████████| 64/64 [00:02<00:00, 29.18batch/s, Loss=0.00974]\n"
     ]
    },
    {
     "name": "stdout",
     "output_type": "stream",
     "text": [
      "Iteration 58, Loss: 0.00950, Accuracy: 0.80859\n"
     ]
    },
    {
     "name": "stderr",
     "output_type": "stream",
     "text": [
      "iteration 59: 100%|██████████| 64/64 [00:02<00:00, 29.26batch/s, Loss=0.00968]\n"
     ]
    },
    {
     "name": "stdout",
     "output_type": "stream",
     "text": [
      "Iteration 59, Loss: 0.00943, Accuracy: 0.81201\n"
     ]
    },
    {
     "name": "stderr",
     "output_type": "stream",
     "text": [
      "iteration 60: 100%|██████████| 64/64 [00:02<00:00, 29.33batch/s, Loss=0.00963]\n"
     ]
    },
    {
     "name": "stdout",
     "output_type": "stream",
     "text": [
      "Iteration 60, Loss: 0.00936, Accuracy: 0.81445\n"
     ]
    },
    {
     "name": "stderr",
     "output_type": "stream",
     "text": [
      "iteration 61: 100%|██████████| 64/64 [00:02<00:00, 29.34batch/s, Loss=0.00955]\n"
     ]
    },
    {
     "name": "stdout",
     "output_type": "stream",
     "text": [
      "Iteration 61, Loss: 0.00929, Accuracy: 0.81641\n"
     ]
    },
    {
     "name": "stderr",
     "output_type": "stream",
     "text": [
      "iteration 62: 100%|██████████| 64/64 [00:02<00:00, 29.37batch/s, Loss=0.00949]\n"
     ]
    },
    {
     "name": "stdout",
     "output_type": "stream",
     "text": [
      "Iteration 62, Loss: 0.00923, Accuracy: 0.81787\n"
     ]
    },
    {
     "name": "stderr",
     "output_type": "stream",
     "text": [
      "iteration 63: 100%|██████████| 64/64 [00:02<00:00, 29.39batch/s, Loss=0.00944]\n"
     ]
    },
    {
     "name": "stdout",
     "output_type": "stream",
     "text": [
      "Iteration 63, Loss: 0.00917, Accuracy: 0.81934\n"
     ]
    },
    {
     "name": "stderr",
     "output_type": "stream",
     "text": [
      "iteration 64: 100%|██████████| 64/64 [00:02<00:00, 29.40batch/s, Loss=0.00937]\n"
     ]
    },
    {
     "name": "stdout",
     "output_type": "stream",
     "text": [
      "Iteration 64, Loss: 0.00912, Accuracy: 0.82080\n"
     ]
    },
    {
     "name": "stderr",
     "output_type": "stream",
     "text": [
      "iteration 65: 100%|██████████| 64/64 [00:02<00:00, 29.37batch/s, Loss=0.00934]\n"
     ]
    },
    {
     "name": "stdout",
     "output_type": "stream",
     "text": [
      "Iteration 65, Loss: 0.00906, Accuracy: 0.82422\n"
     ]
    },
    {
     "name": "stderr",
     "output_type": "stream",
     "text": [
      "iteration 66: 100%|██████████| 64/64 [00:02<00:00, 29.36batch/s, Loss=0.00928]\n"
     ]
    },
    {
     "name": "stdout",
     "output_type": "stream",
     "text": [
      "Iteration 66, Loss: 0.00900, Accuracy: 0.82861\n"
     ]
    },
    {
     "name": "stderr",
     "output_type": "stream",
     "text": [
      "iteration 67: 100%|██████████| 64/64 [00:02<00:00, 29.24batch/s, Loss=0.00924]\n"
     ]
    },
    {
     "name": "stdout",
     "output_type": "stream",
     "text": [
      "Iteration 67, Loss: 0.00895, Accuracy: 0.82910\n"
     ]
    },
    {
     "name": "stderr",
     "output_type": "stream",
     "text": [
      "iteration 68: 100%|██████████| 64/64 [00:02<00:00, 29.20batch/s, Loss=0.00921]\n"
     ]
    },
    {
     "name": "stdout",
     "output_type": "stream",
     "text": [
      "Iteration 68, Loss: 0.00890, Accuracy: 0.83008\n"
     ]
    },
    {
     "name": "stderr",
     "output_type": "stream",
     "text": [
      "iteration 69: 100%|██████████| 64/64 [00:02<00:00, 29.04batch/s, Loss=0.00913]\n"
     ]
    },
    {
     "name": "stdout",
     "output_type": "stream",
     "text": [
      "Iteration 69, Loss: 0.00885, Accuracy: 0.83105\n"
     ]
    },
    {
     "name": "stderr",
     "output_type": "stream",
     "text": [
      "iteration 70: 100%|██████████| 64/64 [00:02<00:00, 29.07batch/s, Loss=0.00909]\n"
     ]
    },
    {
     "name": "stdout",
     "output_type": "stream",
     "text": [
      "Iteration 70, Loss: 0.00879, Accuracy: 0.83154\n"
     ]
    },
    {
     "name": "stderr",
     "output_type": "stream",
     "text": [
      "iteration 71: 100%|██████████| 64/64 [00:02<00:00, 29.10batch/s, Loss=0.00904]\n"
     ]
    },
    {
     "name": "stdout",
     "output_type": "stream",
     "text": [
      "Iteration 71, Loss: 0.00874, Accuracy: 0.83203\n"
     ]
    },
    {
     "name": "stderr",
     "output_type": "stream",
     "text": [
      "iteration 72: 100%|██████████| 64/64 [00:02<00:00, 29.19batch/s, Loss=0.00904]\n"
     ]
    },
    {
     "name": "stdout",
     "output_type": "stream",
     "text": [
      "Iteration 72, Loss: 0.00870, Accuracy: 0.83398\n"
     ]
    },
    {
     "name": "stderr",
     "output_type": "stream",
     "text": [
      "iteration 73: 100%|██████████| 64/64 [00:02<00:00, 29.23batch/s, Loss=0.009]  \n"
     ]
    },
    {
     "name": "stdout",
     "output_type": "stream",
     "text": [
      "Iteration 73, Loss: 0.00866, Accuracy: 0.83691\n"
     ]
    },
    {
     "name": "stderr",
     "output_type": "stream",
     "text": [
      "iteration 74: 100%|██████████| 64/64 [00:02<00:00, 29.30batch/s, Loss=0.00897]\n"
     ]
    },
    {
     "name": "stdout",
     "output_type": "stream",
     "text": [
      "Iteration 74, Loss: 0.00862, Accuracy: 0.83740\n"
     ]
    },
    {
     "name": "stderr",
     "output_type": "stream",
     "text": [
      "iteration 75: 100%|██████████| 64/64 [00:02<00:00, 29.24batch/s, Loss=0.00897]\n"
     ]
    },
    {
     "name": "stdout",
     "output_type": "stream",
     "text": [
      "Iteration 75, Loss: 0.00860, Accuracy: 0.83984\n"
     ]
    },
    {
     "name": "stderr",
     "output_type": "stream",
     "text": [
      "iteration 76: 100%|██████████| 64/64 [00:02<00:00, 29.25batch/s, Loss=0.00894]\n"
     ]
    },
    {
     "name": "stdout",
     "output_type": "stream",
     "text": [
      "Iteration 76, Loss: 0.00859, Accuracy: 0.84033\n"
     ]
    },
    {
     "name": "stderr",
     "output_type": "stream",
     "text": [
      "iteration 77: 100%|██████████| 64/64 [00:02<00:00, 29.24batch/s, Loss=0.00881]\n"
     ]
    },
    {
     "name": "stdout",
     "output_type": "stream",
     "text": [
      "Iteration 77, Loss: 0.00855, Accuracy: 0.84131\n"
     ]
    },
    {
     "name": "stderr",
     "output_type": "stream",
     "text": [
      "iteration 78: 100%|██████████| 64/64 [00:02<00:00, 29.25batch/s, Loss=0.00874]\n"
     ]
    },
    {
     "name": "stdout",
     "output_type": "stream",
     "text": [
      "Iteration 78, Loss: 0.00851, Accuracy: 0.84277\n"
     ]
    },
    {
     "name": "stderr",
     "output_type": "stream",
     "text": [
      "iteration 79: 100%|██████████| 64/64 [00:02<00:00, 29.24batch/s, Loss=0.00871]\n"
     ]
    },
    {
     "name": "stdout",
     "output_type": "stream",
     "text": [
      "Iteration 79, Loss: 0.00845, Accuracy: 0.84473\n"
     ]
    },
    {
     "name": "stderr",
     "output_type": "stream",
     "text": [
      "iteration 80: 100%|██████████| 64/64 [00:02<00:00, 29.31batch/s, Loss=0.00864]\n"
     ]
    },
    {
     "name": "stdout",
     "output_type": "stream",
     "text": [
      "Iteration 80, Loss: 0.00840, Accuracy: 0.85107\n"
     ]
    },
    {
     "name": "stderr",
     "output_type": "stream",
     "text": [
      "iteration 81: 100%|██████████| 64/64 [00:02<00:00, 29.14batch/s, Loss=0.00858]\n"
     ]
    },
    {
     "name": "stdout",
     "output_type": "stream",
     "text": [
      "Iteration 81, Loss: 0.00832, Accuracy: 0.85645\n"
     ]
    },
    {
     "name": "stderr",
     "output_type": "stream",
     "text": [
      "iteration 82: 100%|██████████| 64/64 [00:02<00:00, 29.06batch/s, Loss=0.00853]\n"
     ]
    },
    {
     "name": "stdout",
     "output_type": "stream",
     "text": [
      "Iteration 82, Loss: 0.00827, Accuracy: 0.85840\n"
     ]
    },
    {
     "name": "stderr",
     "output_type": "stream",
     "text": [
      "iteration 83: 100%|██████████| 64/64 [00:02<00:00, 29.12batch/s, Loss=0.00846]\n"
     ]
    },
    {
     "name": "stdout",
     "output_type": "stream",
     "text": [
      "Iteration 83, Loss: 0.00820, Accuracy: 0.86084\n"
     ]
    },
    {
     "name": "stderr",
     "output_type": "stream",
     "text": [
      "iteration 84: 100%|██████████| 64/64 [00:02<00:00, 29.14batch/s, Loss=0.00841]\n"
     ]
    },
    {
     "name": "stdout",
     "output_type": "stream",
     "text": [
      "Iteration 84, Loss: 0.00813, Accuracy: 0.86035\n"
     ]
    },
    {
     "name": "stderr",
     "output_type": "stream",
     "text": [
      "iteration 85: 100%|██████████| 64/64 [00:02<00:00, 29.01batch/s, Loss=0.00837]\n"
     ]
    },
    {
     "name": "stdout",
     "output_type": "stream",
     "text": [
      "Iteration 85, Loss: 0.00807, Accuracy: 0.86230\n"
     ]
    },
    {
     "name": "stderr",
     "output_type": "stream",
     "text": [
      "iteration 86: 100%|██████████| 64/64 [00:02<00:00, 29.11batch/s, Loss=0.00831]\n"
     ]
    },
    {
     "name": "stdout",
     "output_type": "stream",
     "text": [
      "Iteration 86, Loss: 0.00802, Accuracy: 0.86475\n"
     ]
    },
    {
     "name": "stderr",
     "output_type": "stream",
     "text": [
      "iteration 87: 100%|██████████| 64/64 [00:02<00:00, 29.34batch/s, Loss=0.00826]\n"
     ]
    },
    {
     "name": "stdout",
     "output_type": "stream",
     "text": [
      "Iteration 87, Loss: 0.00797, Accuracy: 0.86523\n"
     ]
    },
    {
     "name": "stderr",
     "output_type": "stream",
     "text": [
      "iteration 88: 100%|██████████| 64/64 [00:02<00:00, 29.30batch/s, Loss=0.00823]\n"
     ]
    },
    {
     "name": "stdout",
     "output_type": "stream",
     "text": [
      "Iteration 88, Loss: 0.00791, Accuracy: 0.86572\n"
     ]
    },
    {
     "name": "stderr",
     "output_type": "stream",
     "text": [
      "iteration 89: 100%|██████████| 64/64 [00:02<00:00, 29.28batch/s, Loss=0.0082] \n"
     ]
    },
    {
     "name": "stdout",
     "output_type": "stream",
     "text": [
      "Iteration 89, Loss: 0.00785, Accuracy: 0.86768\n"
     ]
    },
    {
     "name": "stderr",
     "output_type": "stream",
     "text": [
      "iteration 90: 100%|██████████| 64/64 [00:02<00:00, 29.29batch/s, Loss=0.00814]\n"
     ]
    },
    {
     "name": "stdout",
     "output_type": "stream",
     "text": [
      "Iteration 90, Loss: 0.00780, Accuracy: 0.86768\n"
     ]
    },
    {
     "name": "stderr",
     "output_type": "stream",
     "text": [
      "iteration 91: 100%|██████████| 64/64 [00:02<00:00, 29.28batch/s, Loss=0.0081] \n"
     ]
    },
    {
     "name": "stdout",
     "output_type": "stream",
     "text": [
      "Iteration 91, Loss: 0.00775, Accuracy: 0.86963\n"
     ]
    },
    {
     "name": "stderr",
     "output_type": "stream",
     "text": [
      "iteration 92: 100%|██████████| 64/64 [00:02<00:00, 29.30batch/s, Loss=0.00808]\n"
     ]
    },
    {
     "name": "stdout",
     "output_type": "stream",
     "text": [
      "Iteration 92, Loss: 0.00770, Accuracy: 0.87207\n"
     ]
    },
    {
     "name": "stderr",
     "output_type": "stream",
     "text": [
      "iteration 93: 100%|██████████| 64/64 [00:02<00:00, 29.30batch/s, Loss=0.00802]\n"
     ]
    },
    {
     "name": "stdout",
     "output_type": "stream",
     "text": [
      "Iteration 93, Loss: 0.00766, Accuracy: 0.87158\n"
     ]
    },
    {
     "name": "stderr",
     "output_type": "stream",
     "text": [
      "iteration 94: 100%|██████████| 64/64 [00:02<00:00, 29.17batch/s, Loss=0.00797]\n"
     ]
    },
    {
     "name": "stdout",
     "output_type": "stream",
     "text": [
      "Iteration 94, Loss: 0.00760, Accuracy: 0.87305\n"
     ]
    },
    {
     "name": "stderr",
     "output_type": "stream",
     "text": [
      "iteration 95: 100%|██████████| 64/64 [00:02<00:00, 29.28batch/s, Loss=0.00793]\n"
     ]
    },
    {
     "name": "stdout",
     "output_type": "stream",
     "text": [
      "Iteration 95, Loss: 0.00755, Accuracy: 0.87305\n"
     ]
    },
    {
     "name": "stderr",
     "output_type": "stream",
     "text": [
      "iteration 96: 100%|██████████| 64/64 [00:02<00:00, 29.26batch/s, Loss=0.0079] \n"
     ]
    },
    {
     "name": "stdout",
     "output_type": "stream",
     "text": [
      "Iteration 96, Loss: 0.00751, Accuracy: 0.87598\n"
     ]
    },
    {
     "name": "stderr",
     "output_type": "stream",
     "text": [
      "iteration 97: 100%|██████████| 64/64 [00:02<00:00, 29.24batch/s, Loss=0.00784]\n"
     ]
    },
    {
     "name": "stdout",
     "output_type": "stream",
     "text": [
      "Iteration 97, Loss: 0.00747, Accuracy: 0.87549\n"
     ]
    },
    {
     "name": "stderr",
     "output_type": "stream",
     "text": [
      "iteration 98: 100%|██████████| 64/64 [00:02<00:00, 29.20batch/s, Loss=0.00783]\n"
     ]
    },
    {
     "name": "stdout",
     "output_type": "stream",
     "text": [
      "Iteration 98, Loss: 0.00742, Accuracy: 0.87842\n"
     ]
    },
    {
     "name": "stderr",
     "output_type": "stream",
     "text": [
      "iteration 99: 100%|██████████| 64/64 [00:02<00:00, 29.21batch/s, Loss=0.00779]\n"
     ]
    },
    {
     "name": "stdout",
     "output_type": "stream",
     "text": [
      "Iteration 99, Loss: 0.00739, Accuracy: 0.88086\n"
     ]
    },
    {
     "name": "stderr",
     "output_type": "stream",
     "text": [
      "iteration 100: 100%|██████████| 64/64 [00:02<00:00, 29.16batch/s, Loss=0.00777]\n"
     ]
    },
    {
     "name": "stdout",
     "output_type": "stream",
     "text": [
      "Iteration 100, Loss: 0.00734, Accuracy: 0.88232\n"
     ]
    },
    {
     "data": {
      "image/png": "[encoded data removed]",
      "text/plain": [
       "<Figure size 640x480 with 1 Axes>"
      ]
     },
     "metadata": {},
     "output_type": "display_data"
    },
    {
     "data": {
      "image/png": "[encoded data removed]",
      "text/plain": [
       "<Figure size 640x480 with 1 Axes>"
      ]
     },
     "metadata": {},
     "output_type": "display_data"
    }
   ],
   "source": [
    "max_iteration = 100\n",
    "losses, accuracies = train(max_iteration)\n",
    "\n",
    "# 손실 그래프 그리기\n",
    "plt.plot(losses, label='Loss')\n",
    "plt.xlabel('Iteration')\n",
    "plt.ylabel('Loss')\n",
    "plt.title('Training Loss')\n",
    "plt.legend()\n",
    "plt.show()\n",
    "\n",
    "# 정확도 그래프 그리기\n",
    "plt.plot(accuracies, label='Accuracy')\n",
    "plt.xlabel('Iteration')\n",
    "plt.ylabel('Accuracy')\n",
    "plt.title('Training Accuracy')\n",
    "plt.legend()\n",
    "plt.show()"
   ]
  },
  {
   "cell_type": "code",
   "execution_count": 8,
   "metadata": {},
   "outputs": [
    {
     "data": {
      "image/png": "[encoded data removed]",
      "text/plain": [
       "<Figure size 1000x500 with 2 Axes>"
      ]
     },
     "metadata": {},
     "output_type": "display_data"
    }
   ],
   "source": [
    "plt.figure(figsize=(10, 5))\n",
    "\n",
    "plt.subplot(1, 2, 1)\n",
    "plt.plot(losses, label='Loss')\n",
    "plt.xlabel('Iteration')\n",
    "plt.ylabel('Loss')\n",
    "plt.title('Training Loss')\n",
    "plt.legend()\n",
    "\n",
    "plt.subplot(1, 2, 2)\n",
    "plt.plot(accuracies, color='orange', label='Accuracy')\n",
    "plt.xlabel('Iteration')\n",
    "plt.ylabel('Accuracy')\n",
    "plt.title('Training Accuracy')\n",
    "plt.legend()\n",
    "\n",
    "plt.tight_layout()\n",
    "plt.show()"
   ]
  }
 ],
 "metadata": {
  "kernelspec": {
   "display_name": "tf",
   "language": "python",
   "name": "python3"
  },
  "language_info": {
   "codemirror_mode": {
    "name": "ipython",
    "version": 3
   },
   "file_extension": ".py",
   "mimetype": "text/x-python",
   "name": "python",
   "nbconvert_exporter": "python",
   "pygments_lexer": "ipython3",
   "version": "3.8.18"
  }
 },
 "nbformat": 4,
 "nbformat_minor": 2
}
